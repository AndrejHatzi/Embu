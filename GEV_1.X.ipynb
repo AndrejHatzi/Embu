{
 "cells": [
  {
   "cell_type": "code",
   "execution_count": 2,
   "metadata": {},
   "outputs": [],
   "source": [
    "import time\n",
    "from selenium import webdriver"
   ]
  },
  {
   "cell_type": "code",
   "execution_count": 19,
   "metadata": {},
   "outputs": [],
   "source": [
    "driver= webdriver.Firefox()"
   ]
  },
  {
   "cell_type": "code",
   "execution_count": 22,
   "metadata": {},
   "outputs": [],
   "source": [
    "class getValueFromLocations():\n",
    "    def __init__(self,localizacao, near_or_in, estabelecimento):\n",
    "        self.localizacao = localizacao;\n",
    "        self.near_or_in = near_or_in;\n",
    "        self.estabelecimento = estabelecimento;\n",
    "    def StartSearch(self):\n",
    "        #driver= webdriver.Firefox()\n",
    "        driver.get(\"https://www.google.pt/search?tbm=lcl&q={}+{}+{}\".format(self.estabelecimento, self.near_or_in, self.localizacao))\n",
    "        restos : list = [];\n",
    "        while True:\n",
    "            time.sleep(1);\n",
    "            rests=driver.find_elements_by_class_name(\"dbg0pd\")\n",
    "            print(len(rests))\n",
    "            i : str;\n",
    "            for i in rests:\n",
    "                i.click()\n",
    "                time.sleep(1)\n",
    "                try:\n",
    "                    telefone = driver.find_element_by_class_name(\"LrzXr.zdqRlf.kno-fv\");\n",
    "                except:\n",
    "                    continue;\n",
    "                try:\n",
    "                    nome = driver.find_element_by_class_name(\"SPZz6b\");\n",
    "                except:\n",
    "                    continue;\n",
    "                try:\n",
    "                    morada = driver.find_element_by_class_name('LrzXr');\n",
    "                except:\n",
    "                    continue;\n",
    "            restos.append([nome.text,telefone.text, morada.text]);\n",
    "            print(restos);\n",
    "            try:\n",
    "                btn = driver.find_element_by_css_selector('#pnnext > span:nth-child(2)');\n",
    "                btn.click();\n",
    "                time.sleep(3);\n",
    "            except:\n",
    "                break;\n",
    "            print('@a_')\n",
    "        #return restos;\n",
    "        print(restos);"
   ]
  },
  {
   "cell_type": "code",
   "execution_count": null,
   "metadata": {},
   "outputs": [],
   "source": [
    "def convertStreet_to_GPS():\n",
    "    pass"
   ]
  },
  {
   "cell_type": "code",
   "execution_count": 23,
   "metadata": {},
   "outputs": [
    {
     "name": "stdout",
     "output_type": "stream",
     "text": [
      "2\n",
      "[[\"L'Apérot Barbershop\", '249 145 976', 'R. Carlos Reis nº13, 2350-420 Torres Novas']]\n",
      "[[\"L'Apérot Barbershop\", '249 145 976', 'R. Carlos Reis nº13, 2350-420 Torres Novas']]\n"
     ]
    }
   ],
   "source": [
    "#'Shops', 'Places', 'DrugStore', 'Restaurants', 'Barber Shop', 'Bicycle Store', 'Car Dealer', 'Movie Theater', 'Museum', 'Music Store', 'Gas Station', 'High School'\n",
    "x = getValueFromLocations('Torres Novas', 'in', 'Barber Shop').StartSearch();"
   ]
  },
  {
   "cell_type": "code",
   "execution_count": 12,
   "metadata": {},
   "outputs": [
    {
     "name": "stdout",
     "output_type": "stream",
     "text": [
      "None\n"
     ]
    }
   ],
   "source": [
    "print(x)"
   ]
  },
  {
   "cell_type": "code",
   "execution_count": 24,
   "metadata": {},
   "outputs": [],
   "source": [
    "import time;"
   ]
  },
  {
   "cell_type": "code",
   "execution_count": 26,
   "metadata": {},
   "outputs": [],
   "source": [
    "driver= webdriver.Firefox()"
   ]
  },
  {
   "cell_type": "code",
   "execution_count": 28,
   "metadata": {},
   "outputs": [],
   "source": [
    "'''def ExtractPlace():\n",
    "    filter_locations : list = [];\n",
    "    locations = driver.find_elements_by_class_name(\"dbg0pd\");\n",
    "    for i in locations:\n",
    "        i.click()\n",
    "        time.sleep(1)\n",
    "        try:\n",
    "            name      = driver.find_element_by_class_name(\"SPZz6b\")\n",
    "            telephone = driver.find_element_by_class_name(\"LrzXr.zdqRlf.kno-fv\")\n",
    "            address   = driver.find_element_by_class_name(\"LrzXr\")\n",
    "            rating    = driver.find_element_by_css_selector(\".Ob2kfd > div:nth-child(1) > span:nth-child(1)\")\n",
    "            filter_locations.append([name.text,telephone.text, address.text, rating.text])\n",
    "        except:\n",
    "            continue;\n",
    "    return filter_locations;\n",
    "'''"
   ]
  },
  {
   "cell_type": "code",
   "execution_count": 42,
   "metadata": {},
   "outputs": [],
   "source": [
    "def ExtractPlace():\n",
    "    filter_locations : list = [];\n",
    "    while True:\n",
    "        locations = driver.find_elements_by_class_name(\"dbg0pd\");\n",
    "        for i in locations:\n",
    "            i.click()\n",
    "            time.sleep(1)\n",
    "            try:\n",
    "                name      = driver.find_element_by_class_name(\"SPZz6b\")\n",
    "                telephone = driver.find_element_by_class_name(\"LrzXr.zdqRlf.kno-fv\")\n",
    "                address   = driver.find_element_by_class_name(\"LrzXr\")\n",
    "                rating    = driver.find_element_by_css_selector(\".Ob2kfd > div:nth-child(1) > span:nth-child(1)\")\n",
    "                filter_locations.append([name.text,telephone.text, address.text, rating.text])\n",
    "            except:\n",
    "                continue;\n",
    "        try:\n",
    "            btn = driver.find_element_by_css_selector('#pnnext > span:nth-child(2)');\n",
    "            btn.click();\n",
    "            time.sleep(2);\n",
    "        except:\n",
    "            break\n",
    "    return filter_locations;"
   ]
  },
  {
   "cell_type": "code",
   "execution_count": 43,
   "metadata": {},
   "outputs": [],
   "source": [
    "location : tuple = ('Torres Novas', 'in', 'Drug Store')"
   ]
  },
  {
   "cell_type": "code",
   "execution_count": 44,
   "metadata": {},
   "outputs": [],
   "source": [
    "driver.get(\"https://www.google.pt/search?tbm=lcl&q={}+{}+{}&start=0\".format(location[2], location[1], location[0]))"
   ]
  },
  {
   "cell_type": "code",
   "execution_count": 45,
   "metadata": {},
   "outputs": [
    {
     "name": "stdout",
     "output_type": "stream",
     "text": [
      "[['Farmácia Higiene', '249 819 540', 'Largo Cel. António Maria Batista 5, 2350-435 Torres Novas', '4.0'], ['Farmácia Palmeira Unipessoal Lda', '249 821 078', 'R. da Várzea lote 3, 2350-433 Torres Novas', '4.3'], ['Farmácia Lima', '249 822 067', 'R. da Capela de Santo António 7, Torres Novas', '3.7'], ['Farmácia Nicolau', '249 830 180', 'R. 25 de Abril 7, 2350-774 Torres Novas', '4.8'], ['Farmácia Central', '249 822 411', 'Largo São Pedro 5, 2350-728 Torres Novas', '4.0'], ['Intermarché Torres Novas', '249 830 070', 'Cancela do Leão, lote 1, 2350-433 Torres Novas', '3.8'], ['Modelo Continente Torres Novas', '249 812 800', 'R. de Santo António, 2350-537 Torres Novas', '4.0'], ['Quebramar', '249 817 311', 'R. de Miguel de Arnide 21/22, 2350-428 Torres Novas', '4.3'], ['Geoled - Material Eletrico Lda', '249 094 930', 'Av. do Arraial, 2350-430 Torres Novas', '4.4'], ['Lion of Porches Torres Novas', '249 820 941', 'TorreShopping, Ponte Nova Bairro do Nicho, LOJA B-022, 2350-464 Torres Novas', '4.1'], ['Intimissimi', '249 823 020', 'Bairro do Nicho LB 05 B05, 2350-292 Torres Novas', '4.5'], ['Silvaluz-Sociedade Electrotecnica, Lda. Material Eléctrico | Iluminação', '249 824 656', 'R. da Várzea 35, 2350-433 Torres Novas', '4.4'], ['Calzedonia', '249 823 046', 'Rotunda da Ponte do Bico, loja B05, TorreShopping, 2350-292 Torres Novas', '4.0'], ['Norauto Torres Novas', '249 100 100', 'Quinta do Peru, Freguesia de Santa Maria, 2350-418 Torres Novas', '3.8'], ['Adelino Gomes Simões', '249 719 985', 'R. 25 de Abril 2, Entroncamento', '3.0'], ['Citroën Torres Novas - Alves da Luz - STAND', '249 812 166', 'Avenida Andrade Corvo s/n, Torres Novas', '3.6'], ['Farmácia da Terra', '249 717 595', 'R. Alm. Reis 32, 2330-099 Entroncamento', '4.6'], ['ANA SOUSA - Torres Shopping', '249 813 046', 'Rotunda da Ponte do Bico, Torres Shopping Lj. 29B/30B, 2350-464 Torres Novas', '4.8'], ['Seaside', '961 740 088', 'New Britain Ave A04, Torres Novas', '3.6']]\n"
     ]
    }
   ],
   "source": [
    "fl : None = ExtractPlace();\n",
    "print(fl);"
   ]
  },
  {
   "cell_type": "code",
   "execution_count": 49,
   "metadata": {},
   "outputs": [
    {
     "name": "stdout",
     "output_type": "stream",
     "text": [
      "['Farmácia Higiene', '249 819 540', 'Largo Cel. António Maria Batista 5, 2350-435 Torres Novas', '4.0']\n",
      "['Farmácia Palmeira Unipessoal Lda', '249 821 078', 'R. da Várzea lote 3, 2350-433 Torres Novas', '4.3']\n",
      "['Farmácia Lima', '249 822 067', 'R. da Capela de Santo António 7, Torres Novas', '3.7']\n",
      "['Farmácia Nicolau', '249 830 180', 'R. 25 de Abril 7, 2350-774 Torres Novas', '4.8']\n",
      "['Farmácia Central', '249 822 411', 'Largo São Pedro 5, 2350-728 Torres Novas', '4.0']\n",
      "['Intermarché Torres Novas', '249 830 070', 'Cancela do Leão, lote 1, 2350-433 Torres Novas', '3.8']\n",
      "['Modelo Continente Torres Novas', '249 812 800', 'R. de Santo António, 2350-537 Torres Novas', '4.0']\n",
      "['Quebramar', '249 817 311', 'R. de Miguel de Arnide 21/22, 2350-428 Torres Novas', '4.3']\n",
      "['Geoled - Material Eletrico Lda', '249 094 930', 'Av. do Arraial, 2350-430 Torres Novas', '4.4']\n",
      "['Lion of Porches Torres Novas', '249 820 941', 'TorreShopping, Ponte Nova Bairro do Nicho, LOJA B-022, 2350-464 Torres Novas', '4.1']\n",
      "['Intimissimi', '249 823 020', 'Bairro do Nicho LB 05 B05, 2350-292 Torres Novas', '4.5']\n",
      "['Silvaluz-Sociedade Electrotecnica, Lda. Material Eléctrico | Iluminação', '249 824 656', 'R. da Várzea 35, 2350-433 Torres Novas', '4.4']\n",
      "['Calzedonia', '249 823 046', 'Rotunda da Ponte do Bico, loja B05, TorreShopping, 2350-292 Torres Novas', '4.0']\n",
      "['Norauto Torres Novas', '249 100 100', 'Quinta do Peru, Freguesia de Santa Maria, 2350-418 Torres Novas', '3.8']\n",
      "['Adelino Gomes Simões', '249 719 985', 'R. 25 de Abril 2, Entroncamento', '3.0']\n",
      "['Citroën Torres Novas - Alves da Luz - STAND', '249 812 166', 'Avenida Andrade Corvo s/n, Torres Novas', '3.6']\n",
      "['Farmácia da Terra', '249 717 595', 'R. Alm. Reis 32, 2330-099 Entroncamento', '4.6']\n",
      "['ANA SOUSA - Torres Shopping', '249 813 046', 'Rotunda da Ponte do Bico, Torres Shopping Lj. 29B/30B, 2350-464 Torres Novas', '4.8']\n",
      "['Seaside', '961 740 088', 'New Britain Ave A04, Torres Novas', '3.6']\n"
     ]
    }
   ],
   "source": [
    "l : list\n",
    "for l in fl:\n",
    "    print(l)\n",
    "    with open('local.drugstore', 'a', encoding='utf-8') as f:\n",
    "        f.write(('{}\\n').format(str(l)[1:-1]));"
   ]
  },
  {
   "cell_type": "code",
   "execution_count": 33,
   "metadata": {},
   "outputs": [
    {
     "name": "stdout",
     "output_type": "stream",
     "text": [
      "[['Farmácia Higiene', '249 819 540', 'Largo Cel. António Maria Batista 5, 2350-435 Torres Novas', '4.0'], ['Farmácia Lima', '249 822 067', 'R. da Capela de Santo António 7, Torres Novas', '3.7'], ['Farmácia Nicolau', '249 830 180', 'R. 25 de Abril 7, 2350-774 Torres Novas', '4.8'], ['Farmácia Palmeira Unipessoal Lda', '249 821 078', 'R. da Várzea lote 3, 2350-433 Torres Novas', '4.3'], ['Farmácia Central', '249 822 411', 'Largo São Pedro 5, 2350-728 Torres Novas', '4.0'], ['Intermarché Torres Novas', '249 830 070', 'Cancela do Leão, lote 1, 2350-433 Torres Novas', '3.8'], ['Quebramar', '249 817 311', 'R. de Miguel de Arnide 21/22, 2350-428 Torres Novas', '4.3'], ['Modelo Continente Torres Novas', '249 812 800', 'R. de Santo António, 2350-537 Torres Novas', '4.0'], ['Geoled - Material Eletrico Lda', '249 094 930', 'Av. do Arraial, 2350-430 Torres Novas', '4.4'], ['Lion of Porches Torres Novas', '249 820 941', 'TorreShopping, Ponte Nova Bairro do Nicho, LOJA B-022, 2350-464 Torres Novas', '4.1'], ['Intimissimi', '249 823 020', 'Bairro do Nicho LB 05 B05, 2350-292 Torres Novas', '4.5'], ['Calzedonia', '249 823 046', 'Rotunda da Ponte do Bico, loja B05, TorreShopping, 2350-292 Torres Novas', '4.0'], ['Norauto Torres Novas', '249 100 100', 'Quinta do Peru, Freguesia de Santa Maria, 2350-418 Torres Novas', '3.8'], ['Silvaluz-Sociedade Electrotecnica, Lda. Material Eléctrico | Iluminação', '249 824 656', 'R. da Várzea 35, 2350-433 Torres Novas', '4.4']]\n"
     ]
    }
   ],
   "source": [
    "lf : None = ExtractPlace()\n",
    "print(lf);"
   ]
  },
  {
   "cell_type": "code",
   "execution_count": null,
   "metadata": {},
   "outputs": [],
   "source": [
    "#coordinates\n",
    "#clicar em direções esperar, get link\n",
    "#voltar a pagina inicial de pesquisa, acrescentar 1 ao i, i+= 1;"
   ]
  },
  {
   "cell_type": "code",
   "execution_count": null,
   "metadata": {},
   "outputs": [],
   "source": []
  }
 ],
 "metadata": {
  "kernelspec": {
   "display_name": "Python 3",
   "language": "python",
   "name": "python3"
  },
  "language_info": {
   "codemirror_mode": {
    "name": "ipython",
    "version": 3
   },
   "file_extension": ".py",
   "mimetype": "text/x-python",
   "name": "python",
   "nbconvert_exporter": "python",
   "pygments_lexer": "ipython3",
   "version": "3.6.8"
  }
 },
 "nbformat": 4,
 "nbformat_minor": 2
}
